{
  "nbformat": 4,
  "nbformat_minor": 0,
  "metadata": {
    "colab": {
      "provenance": []
    },
    "kernelspec": {
      "name": "python3",
      "display_name": "Python 3"
    },
    "language_info": {
      "name": "python"
    }
  },
  "cells": [
    {
      "cell_type": "markdown",
      "source": [
        "1. Compute the sum 12 + 22 + 32 + … + 20232 = ?"
      ],
      "metadata": {
        "id": "gpaufc4fwvnd"
      }
    },
    {
      "cell_type": "code",
      "execution_count": null,
      "metadata": {
        "id": "1bm_tObGwrci"
      },
      "outputs": [],
      "source": [
        "def Q1():\n",
        "  sum = 0\n",
        "  for x in range (0,2024):\n",
        "      sum = sum + (x*x)\n",
        "  print(sum)"
      ]
    },
    {
      "cell_type": "markdown",
      "source": [
        "2. How many square numbers are below 2023?"
      ],
      "metadata": {
        "id": "MgOQ7l7wxQnM"
      }
    },
    {
      "cell_type": "code",
      "source": [
        "def Q2():\n",
        "  count = 0\n",
        "  for x in range(1, 2024):\n",
        "      y = x * x\n",
        "      if y <= 2024:\n",
        "          count += 1\n",
        "  print(count)"
      ],
      "metadata": {
        "id": "Ay0r8f-CxT88"
      },
      "execution_count": null,
      "outputs": []
    },
    {
      "cell_type": "markdown",
      "source": [
        "3. Find Fibonacci value #23."
      ],
      "metadata": {
        "id": "Cei2u8FRxkN7"
      }
    },
    {
      "cell_type": "code",
      "source": [
        "def Q3(n):\n",
        "  t1, t2 = 0, 1\n",
        "  for x in range(n):\n",
        "      tn = 0\n",
        "      if n <= 0:\n",
        "          tn = 0\n",
        "      elif n == 1:\n",
        "          tn = tn+ 1\n",
        "      else:\n",
        "          if x>1:\n",
        "              tn = t1 + t2\n",
        "              t1 = t2\n",
        "              t2 = tn\n",
        "  print('Fibonacci value #',n,': ',tn)"
      ],
      "metadata": {
        "id": "DnvS527FxoxZ"
      },
      "execution_count": null,
      "outputs": []
    },
    {
      "cell_type": "code",
      "source": [
        "if __name__ == '__main__':\n",
        "    Q1()\n",
        "    Q2()\n",
        "    Q3(23)"
      ],
      "metadata": {
        "colab": {
          "base_uri": "https://localhost:8080/"
        },
        "id": "XIng-Ljgx8Z_",
        "outputId": "49e64799-b312-42aa-fd87-0673e04b10e1"
      },
      "execution_count": null,
      "outputs": [
        {
          "output_type": "stream",
          "name": "stdout",
          "text": [
            "2761775324\n",
            "44\n",
            "Fibonacci number # 23 :  17711\n"
          ]
        }
      ]
    }
  ]
}